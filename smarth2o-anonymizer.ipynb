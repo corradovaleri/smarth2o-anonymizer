{
 "cells": [
  {
   "cell_type": "markdown",
   "metadata": {},
   "source": [
    "# Anonymizing the smarth2o *consumption* and *households* datasets\n",
    "## Which data should be opened\n",
    "The **Deliverable D8.3 WP8**, in the section 4.4 *The Open Data Strategy and Policy of SmartH2O*, defines five different levels of data openness. We can represent them as a table with three columns:\n",
    "1. The number of level\n",
    "2. The user's will to share data with the project and its partners\n",
    "3. How the sharing will impact on the openness of data\n",
    "\n",
    "| \\# of level | User's will to share data with SmartH2O project                                                                                                                   | Data opened (anonymized)                                                                                                                                                                           |\n",
    "|:-----------:|-------------------------------------------------------------------------------------------------------------------------------------------------------------------|----------------------------------------------------------------------------------------------------------------------------------------------------------------------------------------------------|\n",
    "|      1      | No consumption data shared with the SmartH2O project ![](10.png) | No individual water consumption data will be published as open data ![](11.png)                                                                    |\n",
    "|      2      | Consumption data shared only with the project but no household information revealed to anyone ![](21.png) | No individual water consumption data will be published as open data ![](11.png)                                                                    |\n",
    "|      3      | Consumption data and household information shared **only** with the **SmartH2O project** ![](31.png)        | No individual water consumption data will be published as open data ![](11.png)                                                                    |\n",
    "|      4      | Consumption data **anonymously** shared, household data is kept private.                                                                                          | Only individual household water consumption is made available as Open Data. No information on household features is revealed. ![](41.png) |\n",
    "|      5      | Full **anonymous** disclosure ![](31.png)                                                                   | Water consumption and household features are being offered for release as Open Data. ![](52.png) \n",
    "\n",
    "\n",
    "The table shows clearly that the last two levels effectively opens the data. The *lock icon* inside the pictures means that  data have been anonymized. \n",
    "**Attention: In the 4th level, it's not clear which is the user's will to share data.**\n",
    "\n",
    " "
   ]
  },
  {
   "cell_type": "markdown",
   "metadata": {},
   "source": [
    "## About anonymizing a dataset\n",
    "\n",
    "### Attributes\n",
    "Attributes are the building blocks of the anonymization process. We need to introduce them with a formal definition: given a list of individuals in tabular format, in which every row is an individual, we call **attribute** every column. \n",
    "Attributes can be:\n",
    "\n",
    "- *identifiers*, like the personal ID card number, social security number, fiscal code.\n",
    "\n",
    "- *quasi-identifiers*, e.g. : birth date, ZIP code, gender. \n",
    "Taken singularly, these attributes doesn't allow to identify an individual, but combining them and linking them to an external dataset it might identify the individuals.\n",
    "\n",
    "- *sensitive*, like the state of health, a diagnosis, a disease, the party affiliation, the religion, the salary.\n",
    "\n",
    "- *non-sensitive*, like the degree of instruction, the job, the favorite sport.\n",
    "\n",
    "The SmartH2O datasets, acquired by executing SQL queries, will contains *identifiers* attributes like the Smart Meter IDs, the ID's of the database tables (keys and foreign keys) and *quasi-identifiers* like the number of children, the ownership of the household, the number of adults.\n",
    "\n",
    "### State of the art: models and techniques \n",
    "In order to anonymize datasets, there are different models and techniques. While models are focused on expression of attributes, techniques, to implements models, working on attributes values using generalization, suppression and perturbation methods.\n",
    " \n",
    "The base model is called ***k*-anonymity**, that means: given a set of quasi-identifiers attributes, there are *at least* k individuals with the same attributes values, so we can't distinguish them among that attributes <cite data-cite=\"3787359/NKFBISTU\"></cite>. \n",
    " \n",
    "<p>The following table is a 2-anonymity table with Quasi Identifiers set $ QI = \\{Race, Birth, Gender, ZIP\\}$<img src=\"kanonymity-table.png\" alt=\"Smiley face\" align=\"center\"></p>\n"
   ]
  },
  {
   "cell_type": "markdown",
   "metadata": {},
   "source": [
    "Although k-anonymity cannot protect the dataset privacy if the attacker has background knowledge and if the sensitives attributes, respect to a group of quasi identifiers, has a lack of diversity, for instance: the tuple $\\{t10,t11\\}$ although is 2-anonymity, reveals that the two individuals suffers by chest pain.\n",
    "\n",
    "In order to improve the security of the k-anonymity model, the *$l$-diversity* model has been proposed <cite data-cite=\"3787359/65KQHK3S\"></cite>: given a k-anonymity dataset and a set of quasi identifier attributes, there must be at least $l$ distinct values of the sensitive attribute within each quasi identifier equivalence tuple.\n",
    " \n",
    "<p>Here's a 4-anonymity table with $QI=\\{Zip, Age, Nationality\\}$ with 3-diversity *condition* attribute: <img src=\"l-diversity-table.png\" alt=\"Smiley face\" align=\"center\"></p>"
   ]
  },
  {
   "cell_type": "markdown",
   "metadata": {},
   "source": [
    "This instance of the l-diversity model is called *Distinct* l-diversity, but we can instantiate other instances using different criteria: those instances are called *Probabilistic*, *Entropy*, and *Recursive* l-diversity. \n",
    "\n",
    "The l-diversity model has two major weaknesses: it doesn't take into account the semantics of the sensitive attributes <cite data-cite=\"3787359/ZIB68BXF\"></cite>, and it doesn't considers the overall distribution of the sensitive attributes. To address the latter, a new model has been proposed by <cite data-cite=\"3787359/Q4V2NSW8\"></cite> and it has been called ***t*-closeness** . *t*-closeness aims to make the distribution of a sensitive attribute (in any equivalence tuple) close to the attribute's distribution in the whole dataset. \n",
    "\n",
    "In conclusion, we cite the most recent notion of privacy, called **Differential Privacy**: given an individual, its privacy's risk should not substantially increase with its participation in a statistical database <cite data-cite=\"3787359/K7CNSE5M\"></cite>. Thus, the Differential Privacy consists of a framework of techniques to keep databases as privacy-safe as possible to add an individual to the dataset. Differential privacy was mentioned also by Apple's 2016 WWDC keynote, and it's implemented in iOS 10 <cite data-cite=\"3787359/WZGUV7DA\"></cite>.\n",
    "\n",
    "\n",
    "\n"
   ]
  },
  {
   "cell_type": "markdown",
   "metadata": {},
   "source": [
    "## The laws and regulations on data protection\n",
    "The SmartH2O researchers get the consumption dataset from the utility, data will be anonymized and finally published to open data portals. Because we will treat data, we need to explore the juridic field of individuals' data protection. We have to analyze three distinct juridic areas: Switzerland for Tegna's dataset, European Union for Valencia, and UK for London (although there isn't yet a SmartH2O London's dataset).\n",
    "\n",
    "### European Union  \n",
    "On April 2016 EU replaced the twenty years old _Data Protection Directive_ with the _General Data Protection Regulation_ (GDPR) <cite data-cite=\"3787359/9FF6GDRV\"></cite>. Officially approved on 14 April 2016, the regulation will enter in force on 25 May 2018, thus we work on datasets assuming the GDPR would be already enforced. \n",
    "GDPR introduced some key points that are in our interest:\n",
    "\n",
    "- **Controllers and Processors** Controllers are those that control data; in our case the utility is the controller because we get the data from it. We are the processor, because we process the consumption data. The host of anonymized dataset, in our opinion, could be defined as controller. The role of data processor now is charged of many obligations, the ones that impact of Smarth2O activity are: to maintain a written record of processing activities, and to notify the controller (the Utility) on becoming aware of a personal data breach <cite data-cite=\"3787359/FMSQJ2KQ\"></cite>.\n",
    "- **Consent** must be explicit for sensitive data and, in general, unambiguous. The data controller must obeys these legal conditions. The SmartH2O researchers, as processors, can work only on that kind of data: it has been taken into account in the *Deliverable D8.3 WP8*\n",
    "- **Right to be Forgotten** It is also known as *Data Erasure* right: when a user wants to be erased from the controller's database, the controller must erase her/his personal data, cease any further dissemination, and halt their processing by third parties. The SmartH2O researchers need to be notified by the Utility, in order to remove the subject data from the archive and re-publish the new anonymized version.\n",
    "- **Large geographical reach** The personal data of those are living in EU are protected by the GDPR, even if the processors, controllers, or the data processing, are established outside the EU. The Article 3 defines the processing activities as \"the offering of good or services\" and \"the monitoring of their behaviour as far as their behaviour takes place within the Union\". A consequence of this, will be that a controller located in UK, shall adopt the GDPR if its customer are in the EU's territory. \n",
    "\n",
    "### Switzerland\n",
    "Tegna is located in Ticino canton, thus we have to apply the cantonal data protection law called _Legge cantonale sulla protezione dei dati personali_ (LPDP) <cite data-cite=\"3787359/4J75PISQ\"></cite>: that legislation applies to public institutions, thus it has to be applied by the SUPSI researchers of the SmartH2O project. There's in force at the same time the federal _Data Protection Law_ (LPD) <cite data-cite=\"3787359/PSH8MTBA\"></cite>: come into force in 1987, it will be soon revised to be tied to the GDPR by the Swiss Federal Council <cite data-cite=\"3787359/799X79SU\"></cite>. The article 15 of LPDP allows to process personal data for scientific purposes only if data have been anonymized first, and this is part of our process. \n",
    "\n",
    "### United Kingdom\n",
    "The hipotetic SmartH2O London's dataset might contains EU's citizens living in London, but the GDPR should not be applicable because they are outside EU. Although, because of Brexit, it is not clear what will happen: experts say that despite Brexit, UK businesses might adopt GDPR in order to continue to do business with their customers that are living in EU <cite data-cite=\"3787359/G2FEKJAW\"></cite> <cite data-cite=\"3787359/J5MV3PRI\"></cite>.   \n",
    "\n",
    "### Conclusions\n",
    "The GDPR will enter in force in 2018: we'll produce an opendata dataset obeying the new EU data protection law. Also Switzerland is going to revise its data protection law to be tied to the GDPR: until that, we uses LPDP as the reference. \n",
    "\n",
    "Here's the workflow applied by the SmartH2O researchers to fulfill the GDPR and the LPDP:\n",
    "\n",
    "- SmartH2O researchers will process only data collected by users that gave their consent. \n",
    "- Users' data will be anonymized in order to be published to the opendata portals: SUPSI's researchers must anonymize the Tegna's dataset because the not-anonymized dataset cannot be exported outside Switzerland. Analougously, Valencia's researchers have to anonymize the Valencia's dataset inside EU's territory.\n",
    "- In case of a data breach, researchers must communicate the event to the utility. \n",
    "- In case a user claim its right to be erased form the database, the utility must erase its records and notify to researchers in order to process again the data and publish a new dataset without the user's records."
   ]
  },
  {
   "cell_type": "markdown",
   "metadata": {},
   "source": [
    "## The anonymization process\n",
    "\n",
    "### Utility vs Privacy\n",
    "There is a trade-off between utility and privacy preservation: while we can protect sensitive data with privacy models, we are also removing and altering data from the database. With an high privacy model applied, the utility of data can be compromised due to data loss. In our case, we take in account that the most important information that SmartH2O project is opening is water consumption, that is not attributable to a sensitive information. We collect also family's informations and household features, that are quasi-identifiers, so that data will be treated before their release.\n",
    "\n",
    "### The balanced model\n",
    "We need to balance the risk of de-anonymization of smartH2O dataset with the data utility for research: a good deal is the __removal of all attributes regarding the individuals__: the children segmentation by age, the number of adults, the family's address, the ownership, and the number of pets. All attributes regarding the household building are kept: this allow researchers to do their research using all the building's features.\n",
    "In case of re-identification, the SmartH2O anonymized dataset will discloses only the household's features and the water consumption, not any personal data. \n",
    "This is a simple but effective model, based only on attributes removal. \n",
    "\n",
    "### Workflow\n",
    "The following steps describes the data workflow:\n",
    "1. Consumption and Features are read in panda's datasets\n",
    "2. The Meters IDs are remapped to new numerical values (pseudo-IDs), in order to suppress the original IDs\n",
    "3. The Identifier and quasi-identifier attributes discussed above are removed\n",
    "4. The anonymized dataset and the remapped IDs table are saved as CSV file type.\n",
    "\n",
    "### Software\n",
    "The anonymization algorithm has been implemented fro scratch in python, because the simplicity of the model. In case we would apply more complex models like k-anonimity, there are some tools that we can try. Keeping the non-commercial and open-source requirements, we have: μ-ARGUS <cite data-cite=\"3787359/Q5A34RF4\"></cite>, UTD anonymization toolbox <cite data-cite=\"3787359/8R7PH8I6\"></cite> [UTDAnony85:online], sdcMicro <cite data-cite=\"3787359/535WZFAU\"></cite>, and ARX <cite data-cite=\"3787359/SR92UDP2\"></cite>.\n"
   ]
  },
  {
   "cell_type": "markdown",
   "metadata": {},
   "source": [
    "## Implementation\n",
    "The python distribution used is the Anaconda distribution <cite data-cite=\"3787359/SF7F9F3G\"></cite>: actively maintained by Continuum it is oriented to the open data science field.\n",
    "\n",
    "### Pre-condition\n",
    "We have two dataset already extracted by using SQL queries on the production DB, and it has been saved as CSV file type.\n",
    "__Note: the SQL query must obeys the privacy user's flag __\n",
    "The two datasets are the household's features and the consumption, logically linked by the Smart Meter ID field.\n"
   ]
  },
  {
   "cell_type": "code",
   "execution_count": 1,
   "metadata": {
    "collapsed": false
   },
   "outputs": [
    {
     "name": "stdout",
     "output_type": "stream",
     "text": [
      "3.5.2 |Continuum Analytics, Inc.| (default, Jul  5 2016, 11:41:13) [MSC v.1900 64 bit (AMD64)]\n"
     ]
    }
   ],
   "source": [
    "import sys\n",
    "print(sys.version)"
   ]
  },
  {
   "cell_type": "code",
   "execution_count": 2,
   "metadata": {
    "collapsed": false,
    "scrolled": true
   },
   "outputs": [
    {
     "name": "stdout",
     "output_type": "stream",
     "text": [
      "0.18.1\n"
     ]
    }
   ],
   "source": [
    "import pandas as pd\n",
    "from pandas import DataFrame, Series\n",
    "print(pd.__version__)"
   ]
  },
  {
   "cell_type": "code",
   "execution_count": 11,
   "metadata": {
    "collapsed": false
   },
   "outputs": [],
   "source": [
    "from prettypandas import PrettyPandas\n"
   ]
  },
  {
   "cell_type": "code",
   "execution_count": 12,
   "metadata": {
    "collapsed": false
   },
   "outputs": [],
   "source": [
    "# attention: all the int columns will be converted to float64 bacause of the presence of NULL values \n",
    "# ref.: http://pandas.pydata.org/pandas-docs/stable/gotchas.html#support-for-integer-na\n",
    "\n",
    "df1 = pd.read_csv('C:/Users/install/Documents/Export_Corrado_12.10.2016.csv')\n",
    "df2 = pd.read_csv('C:/Users/install/Documents/Export_Corrado_10.10.2016.csv')\n",
    "\n"
   ]
  },
  {
   "cell_type": "code",
   "execution_count": 14,
   "metadata": {
    "collapsed": false
   },
   "outputs": [],
   "source": [
    "#extract unique list of meter ids and remap it to ordinal serie values\n",
    "set1 = set(df1['smart_meter_id']) \n",
    "set2 = set(df2['meter'])\n",
    "\n",
    "#frozenset because we can hash the values --> dict\n",
    "uniques =  frozenset(set1 |set2)\n",
    "\n",
    "# remap the meters to their row's index\n",
    "#\"CH_AQU_50991555\"             {\"CH_AQU_50991555\": 0,\n",
    "#\"CH_AQU_51080356\"   ------->  \"CH_AQU_51080356\": 1,\n",
    "#\"CH_AQU_50993221\"             \"CH_AQU_50993221\": 2}  \n",
    "mapped_meters = dict([(key,idx) for (idx,key) in enumerate(uniques)])  \n",
    "\n",
    "# apply the mapping\n",
    "df1['smart_meter_id'].replace(mapped_meters, inplace=True)\n",
    "df2['meter'].replace(mapped_meters, inplace=True)\n",
    "# to uniform meter id columns\n",
    "df2.rename(columns={'meter':'smart_meter_id'},inplace=True)"
   ]
  },
  {
   "cell_type": "code",
   "execution_count": 15,
   "metadata": {
    "code_folding": [],
    "collapsed": false
   },
   "outputs": [],
   "source": [
    "#dropping of the identifiers column attributes\n",
    "identifiers=['sm_oid','hs_smart_meter_oid','hs_building_oid','bld_oid'\n",
    "             ,'dst_oid','cdi_hs_oid','sdi_hs_oid']\n",
    "df1 = df1.drop(identifiers,axis=1)\n",
    "quasi_identifiers = ['irrigation_system.1','ownership','number_pets','second',\n",
    "                     'children9','children5_9','children0_4','number_adults',\n",
    "                     'address','zipcode','city','country']\n",
    "df1 = df1.drop(quasi_identifiers,axis=1)"
   ]
  },
  {
   "cell_type": "code",
   "execution_count": 17,
   "metadata": {
    "collapsed": false
   },
   "outputs": [],
   "source": [
    "#preparing for writing down the csv's\n",
    "sorted_by_keys = sorted(mapped_meters.items(), key=lambda x: x[1])\n",
    "CSV =\"\\n\".join([str(k)+\",\"+str(v) for (k,v) in sorted_by_keys])"
   ]
  },
  {
   "cell_type": "code",
   "execution_count": 18,
   "metadata": {
    "code_folding": [],
    "collapsed": false
   },
   "outputs": [],
   "source": [
    "df1.to_csv('C:/Users/install/Documents/smarth2o_anonymized_households.csv',\n",
    "           encoding='utf-8',na_rep=\"NULL\",index_label=\"index\")\n",
    "df2.to_csv('C:/Users/install/Documents/smarth2o_anonymized_consumptions.csv',\n",
    "           encoding='utf-8',na_rep=\"NULL\",index_label=\"index\")\n",
    "with open('C:/Users/install/Documents/smarth2o_anonymized_mapping_meters.csv', \"w\") as f:\n",
    "          f.write(CSV)"
   ]
  },
  {
   "cell_type": "markdown",
   "metadata": {},
   "source": [
    "\n",
    "# Resulting datasets\n",
    "These are the datasets ready to be released:\n",
    "## 1. The households dataset which contains all the household features, with the meter pseudo-IDs.\n",
    "  Here an extract for the meter pseudo-ID 231\n"
   ]
  },
  {
   "cell_type": "code",
   "execution_count": 22,
   "metadata": {
    "collapsed": false
   },
   "outputs": [
    {
     "data": {
      "text/html": [
       "\n",
       "        <style  type=\"text/css\" >\n",
       "        \n",
       "            #T_252c4266_dbd4_11e6_9cbe_989096a829da th {\n",
       "            \n",
       "                background: #eee;\n",
       "            \n",
       "                font-weight: 500;\n",
       "            \n",
       "            }\n",
       "        \n",
       "            #T_252c4266_dbd4_11e6_9cbe_989096a829da td {\n",
       "            \n",
       "                text-align: right;\n",
       "            \n",
       "                min-width: 3em;\n",
       "            \n",
       "            }\n",
       "        \n",
       "            #T_252c4266_dbd4_11e6_9cbe_989096a829da * {\n",
       "            \n",
       "                border-color: #c0c0c0;\n",
       "            \n",
       "            }\n",
       "        \n",
       "        \n",
       "        </style>\n",
       "\n",
       "        <table id=\"T_252c4266_dbd4_11e6_9cbe_989096a829da\" None>\n",
       "        \n",
       "\n",
       "        <thead>\n",
       "            \n",
       "            <tr>\n",
       "                \n",
       "                <th class=\"blank\">\n",
       "                \n",
       "                <th class=\"col_heading level0 col0\">smart_meter_id\n",
       "                \n",
       "                <th class=\"col_heading level0 col1\">household_size\n",
       "                \n",
       "                <th class=\"col_heading level0 col2\">household_garden_area\n",
       "                \n",
       "                <th class=\"col_heading level0 col3\">household_pool_volume\n",
       "                \n",
       "                <th class=\"col_heading level0 col4\">household_pool\n",
       "                \n",
       "                <th class=\"col_heading level0 col5\">household_garden\n",
       "                \n",
       "                <th class=\"col_heading level0 col6\">residency_type\n",
       "                \n",
       "                <th class=\"col_heading level0 col7\">number_bathrooms\n",
       "                \n",
       "                <th class=\"col_heading level0 col8\">environmental_attitude\n",
       "                \n",
       "                <th class=\"col_heading level0 col9\">irrigation_system\n",
       "                \n",
       "                <th class=\"col_heading level0 col10\">building_size\n",
       "                \n",
       "                <th class=\"col_heading level0 col11\">name\n",
       "                \n",
       "                <th class=\"col_heading level0 col12\">efficiency\n",
       "                \n",
       "                <th class=\"col_heading level0 col13\">ecomode\n",
       "                \n",
       "                <th class=\"col_heading level0 col14\">timer\n",
       "                \n",
       "                <th class=\"col_heading level0 col15\">name.1\n",
       "                \n",
       "                <th class=\"col_heading level0 col16\">number\n",
       "                \n",
       "            </tr>\n",
       "            \n",
       "        </thead>\n",
       "        <tbody>\n",
       "            \n",
       "            <tr>\n",
       "                \n",
       "                <th id=\"T_252c4266_dbd4_11e6_9cbe_989096a829da\" class=\"row_heading level16 row0\">\n",
       "                    0\n",
       "                \n",
       "                <td id=\"T_252c4266_dbd4_11e6_9cbe_989096a829darow0_col0\" class=\"data row0 col0\">\n",
       "                    231\n",
       "                \n",
       "                <td id=\"T_252c4266_dbd4_11e6_9cbe_989096a829darow0_col1\" class=\"data row0 col1\">\n",
       "                    140\n",
       "                \n",
       "                <td id=\"T_252c4266_dbd4_11e6_9cbe_989096a829darow0_col2\" class=\"data row0 col2\">\n",
       "                    200\n",
       "                \n",
       "                <td id=\"T_252c4266_dbd4_11e6_9cbe_989096a829darow0_col3\" class=\"data row0 col3\">\n",
       "                    0\n",
       "                \n",
       "                <td id=\"T_252c4266_dbd4_11e6_9cbe_989096a829darow0_col4\" class=\"data row0 col4\">\n",
       "                    0\n",
       "                \n",
       "                <td id=\"T_252c4266_dbd4_11e6_9cbe_989096a829darow0_col5\" class=\"data row0 col5\">\n",
       "                    1\n",
       "                \n",
       "                <td id=\"T_252c4266_dbd4_11e6_9cbe_989096a829darow0_col6\" class=\"data row0 col6\">\n",
       "                    Single Family\n",
       "                \n",
       "                <td id=\"T_252c4266_dbd4_11e6_9cbe_989096a829darow0_col7\" class=\"data row0 col7\">\n",
       "                    3\n",
       "                \n",
       "                <td id=\"T_252c4266_dbd4_11e6_9cbe_989096a829darow0_col8\" class=\"data row0 col8\">\n",
       "                    Medium environmental sensitivity\n",
       "                \n",
       "                <td id=\"T_252c4266_dbd4_11e6_9cbe_989096a829darow0_col9\" class=\"data row0 col9\">\n",
       "                    0\n",
       "                \n",
       "                <td id=\"T_252c4266_dbd4_11e6_9cbe_989096a829darow0_col10\" class=\"data row0 col10\">\n",
       "                    nan\n",
       "                \n",
       "                <td id=\"T_252c4266_dbd4_11e6_9cbe_989096a829darow0_col11\" class=\"data row0 col11\">\n",
       "                    washing_machine\n",
       "                \n",
       "                <td id=\"T_252c4266_dbd4_11e6_9cbe_989096a829darow0_col12\" class=\"data row0 col12\">\n",
       "                    A+\n",
       "                \n",
       "                <td id=\"T_252c4266_dbd4_11e6_9cbe_989096a829darow0_col13\" class=\"data row0 col13\">\n",
       "                    0\n",
       "                \n",
       "                <td id=\"T_252c4266_dbd4_11e6_9cbe_989096a829darow0_col14\" class=\"data row0 col14\">\n",
       "                    0\n",
       "                \n",
       "                <td id=\"T_252c4266_dbd4_11e6_9cbe_989096a829darow0_col15\" class=\"data row0 col15\">\n",
       "                    toilet\n",
       "                \n",
       "                <td id=\"T_252c4266_dbd4_11e6_9cbe_989096a829darow0_col16\" class=\"data row0 col16\">\n",
       "                    2\n",
       "                \n",
       "            </tr>\n",
       "            \n",
       "            <tr>\n",
       "                \n",
       "                <th id=\"T_252c4266_dbd4_11e6_9cbe_989096a829da\" class=\"row_heading level16 row1\">\n",
       "                    1\n",
       "                \n",
       "                <td id=\"T_252c4266_dbd4_11e6_9cbe_989096a829darow1_col0\" class=\"data row1 col0\">\n",
       "                    231\n",
       "                \n",
       "                <td id=\"T_252c4266_dbd4_11e6_9cbe_989096a829darow1_col1\" class=\"data row1 col1\">\n",
       "                    140\n",
       "                \n",
       "                <td id=\"T_252c4266_dbd4_11e6_9cbe_989096a829darow1_col2\" class=\"data row1 col2\">\n",
       "                    200\n",
       "                \n",
       "                <td id=\"T_252c4266_dbd4_11e6_9cbe_989096a829darow1_col3\" class=\"data row1 col3\">\n",
       "                    0\n",
       "                \n",
       "                <td id=\"T_252c4266_dbd4_11e6_9cbe_989096a829darow1_col4\" class=\"data row1 col4\">\n",
       "                    0\n",
       "                \n",
       "                <td id=\"T_252c4266_dbd4_11e6_9cbe_989096a829darow1_col5\" class=\"data row1 col5\">\n",
       "                    1\n",
       "                \n",
       "                <td id=\"T_252c4266_dbd4_11e6_9cbe_989096a829darow1_col6\" class=\"data row1 col6\">\n",
       "                    Single Family\n",
       "                \n",
       "                <td id=\"T_252c4266_dbd4_11e6_9cbe_989096a829darow1_col7\" class=\"data row1 col7\">\n",
       "                    3\n",
       "                \n",
       "                <td id=\"T_252c4266_dbd4_11e6_9cbe_989096a829darow1_col8\" class=\"data row1 col8\">\n",
       "                    Medium environmental sensitivity\n",
       "                \n",
       "                <td id=\"T_252c4266_dbd4_11e6_9cbe_989096a829darow1_col9\" class=\"data row1 col9\">\n",
       "                    0\n",
       "                \n",
       "                <td id=\"T_252c4266_dbd4_11e6_9cbe_989096a829darow1_col10\" class=\"data row1 col10\">\n",
       "                    nan\n",
       "                \n",
       "                <td id=\"T_252c4266_dbd4_11e6_9cbe_989096a829darow1_col11\" class=\"data row1 col11\">\n",
       "                    washing_machine\n",
       "                \n",
       "                <td id=\"T_252c4266_dbd4_11e6_9cbe_989096a829darow1_col12\" class=\"data row1 col12\">\n",
       "                    A+\n",
       "                \n",
       "                <td id=\"T_252c4266_dbd4_11e6_9cbe_989096a829darow1_col13\" class=\"data row1 col13\">\n",
       "                    0\n",
       "                \n",
       "                <td id=\"T_252c4266_dbd4_11e6_9cbe_989096a829darow1_col14\" class=\"data row1 col14\">\n",
       "                    0\n",
       "                \n",
       "                <td id=\"T_252c4266_dbd4_11e6_9cbe_989096a829darow1_col15\" class=\"data row1 col15\">\n",
       "                    sink\n",
       "                \n",
       "                <td id=\"T_252c4266_dbd4_11e6_9cbe_989096a829darow1_col16\" class=\"data row1 col16\">\n",
       "                    3\n",
       "                \n",
       "            </tr>\n",
       "            \n",
       "            <tr>\n",
       "                \n",
       "                <th id=\"T_252c4266_dbd4_11e6_9cbe_989096a829da\" class=\"row_heading level16 row2\">\n",
       "                    2\n",
       "                \n",
       "                <td id=\"T_252c4266_dbd4_11e6_9cbe_989096a829darow2_col0\" class=\"data row2 col0\">\n",
       "                    231\n",
       "                \n",
       "                <td id=\"T_252c4266_dbd4_11e6_9cbe_989096a829darow2_col1\" class=\"data row2 col1\">\n",
       "                    140\n",
       "                \n",
       "                <td id=\"T_252c4266_dbd4_11e6_9cbe_989096a829darow2_col2\" class=\"data row2 col2\">\n",
       "                    200\n",
       "                \n",
       "                <td id=\"T_252c4266_dbd4_11e6_9cbe_989096a829darow2_col3\" class=\"data row2 col3\">\n",
       "                    0\n",
       "                \n",
       "                <td id=\"T_252c4266_dbd4_11e6_9cbe_989096a829darow2_col4\" class=\"data row2 col4\">\n",
       "                    0\n",
       "                \n",
       "                <td id=\"T_252c4266_dbd4_11e6_9cbe_989096a829darow2_col5\" class=\"data row2 col5\">\n",
       "                    1\n",
       "                \n",
       "                <td id=\"T_252c4266_dbd4_11e6_9cbe_989096a829darow2_col6\" class=\"data row2 col6\">\n",
       "                    Single Family\n",
       "                \n",
       "                <td id=\"T_252c4266_dbd4_11e6_9cbe_989096a829darow2_col7\" class=\"data row2 col7\">\n",
       "                    3\n",
       "                \n",
       "                <td id=\"T_252c4266_dbd4_11e6_9cbe_989096a829darow2_col8\" class=\"data row2 col8\">\n",
       "                    Medium environmental sensitivity\n",
       "                \n",
       "                <td id=\"T_252c4266_dbd4_11e6_9cbe_989096a829darow2_col9\" class=\"data row2 col9\">\n",
       "                    0\n",
       "                \n",
       "                <td id=\"T_252c4266_dbd4_11e6_9cbe_989096a829darow2_col10\" class=\"data row2 col10\">\n",
       "                    nan\n",
       "                \n",
       "                <td id=\"T_252c4266_dbd4_11e6_9cbe_989096a829darow2_col11\" class=\"data row2 col11\">\n",
       "                    washing_machine\n",
       "                \n",
       "                <td id=\"T_252c4266_dbd4_11e6_9cbe_989096a829darow2_col12\" class=\"data row2 col12\">\n",
       "                    A+\n",
       "                \n",
       "                <td id=\"T_252c4266_dbd4_11e6_9cbe_989096a829darow2_col13\" class=\"data row2 col13\">\n",
       "                    0\n",
       "                \n",
       "                <td id=\"T_252c4266_dbd4_11e6_9cbe_989096a829darow2_col14\" class=\"data row2 col14\">\n",
       "                    0\n",
       "                \n",
       "                <td id=\"T_252c4266_dbd4_11e6_9cbe_989096a829darow2_col15\" class=\"data row2 col15\">\n",
       "                    shower\n",
       "                \n",
       "                <td id=\"T_252c4266_dbd4_11e6_9cbe_989096a829darow2_col16\" class=\"data row2 col16\">\n",
       "                    2\n",
       "                \n",
       "            </tr>\n",
       "            \n",
       "            <tr>\n",
       "                \n",
       "                <th id=\"T_252c4266_dbd4_11e6_9cbe_989096a829da\" class=\"row_heading level16 row3\">\n",
       "                    3\n",
       "                \n",
       "                <td id=\"T_252c4266_dbd4_11e6_9cbe_989096a829darow3_col0\" class=\"data row3 col0\">\n",
       "                    231\n",
       "                \n",
       "                <td id=\"T_252c4266_dbd4_11e6_9cbe_989096a829darow3_col1\" class=\"data row3 col1\">\n",
       "                    140\n",
       "                \n",
       "                <td id=\"T_252c4266_dbd4_11e6_9cbe_989096a829darow3_col2\" class=\"data row3 col2\">\n",
       "                    200\n",
       "                \n",
       "                <td id=\"T_252c4266_dbd4_11e6_9cbe_989096a829darow3_col3\" class=\"data row3 col3\">\n",
       "                    0\n",
       "                \n",
       "                <td id=\"T_252c4266_dbd4_11e6_9cbe_989096a829darow3_col4\" class=\"data row3 col4\">\n",
       "                    0\n",
       "                \n",
       "                <td id=\"T_252c4266_dbd4_11e6_9cbe_989096a829darow3_col5\" class=\"data row3 col5\">\n",
       "                    1\n",
       "                \n",
       "                <td id=\"T_252c4266_dbd4_11e6_9cbe_989096a829darow3_col6\" class=\"data row3 col6\">\n",
       "                    Single Family\n",
       "                \n",
       "                <td id=\"T_252c4266_dbd4_11e6_9cbe_989096a829darow3_col7\" class=\"data row3 col7\">\n",
       "                    3\n",
       "                \n",
       "                <td id=\"T_252c4266_dbd4_11e6_9cbe_989096a829darow3_col8\" class=\"data row3 col8\">\n",
       "                    Medium environmental sensitivity\n",
       "                \n",
       "                <td id=\"T_252c4266_dbd4_11e6_9cbe_989096a829darow3_col9\" class=\"data row3 col9\">\n",
       "                    0\n",
       "                \n",
       "                <td id=\"T_252c4266_dbd4_11e6_9cbe_989096a829darow3_col10\" class=\"data row3 col10\">\n",
       "                    nan\n",
       "                \n",
       "                <td id=\"T_252c4266_dbd4_11e6_9cbe_989096a829darow3_col11\" class=\"data row3 col11\">\n",
       "                    washing_machine\n",
       "                \n",
       "                <td id=\"T_252c4266_dbd4_11e6_9cbe_989096a829darow3_col12\" class=\"data row3 col12\">\n",
       "                    A+\n",
       "                \n",
       "                <td id=\"T_252c4266_dbd4_11e6_9cbe_989096a829darow3_col13\" class=\"data row3 col13\">\n",
       "                    0\n",
       "                \n",
       "                <td id=\"T_252c4266_dbd4_11e6_9cbe_989096a829darow3_col14\" class=\"data row3 col14\">\n",
       "                    0\n",
       "                \n",
       "                <td id=\"T_252c4266_dbd4_11e6_9cbe_989096a829darow3_col15\" class=\"data row3 col15\">\n",
       "                    tub_shower\n",
       "                \n",
       "                <td id=\"T_252c4266_dbd4_11e6_9cbe_989096a829darow3_col16\" class=\"data row3 col16\">\n",
       "                    1\n",
       "                \n",
       "            </tr>\n",
       "            \n",
       "            <tr>\n",
       "                \n",
       "                <th id=\"T_252c4266_dbd4_11e6_9cbe_989096a829da\" class=\"row_heading level16 row4\">\n",
       "                    4\n",
       "                \n",
       "                <td id=\"T_252c4266_dbd4_11e6_9cbe_989096a829darow4_col0\" class=\"data row4 col0\">\n",
       "                    231\n",
       "                \n",
       "                <td id=\"T_252c4266_dbd4_11e6_9cbe_989096a829darow4_col1\" class=\"data row4 col1\">\n",
       "                    140\n",
       "                \n",
       "                <td id=\"T_252c4266_dbd4_11e6_9cbe_989096a829darow4_col2\" class=\"data row4 col2\">\n",
       "                    200\n",
       "                \n",
       "                <td id=\"T_252c4266_dbd4_11e6_9cbe_989096a829darow4_col3\" class=\"data row4 col3\">\n",
       "                    0\n",
       "                \n",
       "                <td id=\"T_252c4266_dbd4_11e6_9cbe_989096a829darow4_col4\" class=\"data row4 col4\">\n",
       "                    0\n",
       "                \n",
       "                <td id=\"T_252c4266_dbd4_11e6_9cbe_989096a829darow4_col5\" class=\"data row4 col5\">\n",
       "                    1\n",
       "                \n",
       "                <td id=\"T_252c4266_dbd4_11e6_9cbe_989096a829darow4_col6\" class=\"data row4 col6\">\n",
       "                    Single Family\n",
       "                \n",
       "                <td id=\"T_252c4266_dbd4_11e6_9cbe_989096a829darow4_col7\" class=\"data row4 col7\">\n",
       "                    3\n",
       "                \n",
       "                <td id=\"T_252c4266_dbd4_11e6_9cbe_989096a829darow4_col8\" class=\"data row4 col8\">\n",
       "                    Medium environmental sensitivity\n",
       "                \n",
       "                <td id=\"T_252c4266_dbd4_11e6_9cbe_989096a829darow4_col9\" class=\"data row4 col9\">\n",
       "                    0\n",
       "                \n",
       "                <td id=\"T_252c4266_dbd4_11e6_9cbe_989096a829darow4_col10\" class=\"data row4 col10\">\n",
       "                    nan\n",
       "                \n",
       "                <td id=\"T_252c4266_dbd4_11e6_9cbe_989096a829darow4_col11\" class=\"data row4 col11\">\n",
       "                    washing_machine\n",
       "                \n",
       "                <td id=\"T_252c4266_dbd4_11e6_9cbe_989096a829darow4_col12\" class=\"data row4 col12\">\n",
       "                    A+\n",
       "                \n",
       "                <td id=\"T_252c4266_dbd4_11e6_9cbe_989096a829darow4_col13\" class=\"data row4 col13\">\n",
       "                    0\n",
       "                \n",
       "                <td id=\"T_252c4266_dbd4_11e6_9cbe_989096a829darow4_col14\" class=\"data row4 col14\">\n",
       "                    0\n",
       "                \n",
       "                <td id=\"T_252c4266_dbd4_11e6_9cbe_989096a829darow4_col15\" class=\"data row4 col15\">\n",
       "                    dishwasher_simple\n",
       "                \n",
       "                <td id=\"T_252c4266_dbd4_11e6_9cbe_989096a829darow4_col16\" class=\"data row4 col16\">\n",
       "                    1\n",
       "                \n",
       "            </tr>\n",
       "            \n",
       "            <tr>\n",
       "                \n",
       "                <th id=\"T_252c4266_dbd4_11e6_9cbe_989096a829da\" class=\"row_heading level16 row5\">\n",
       "                    5\n",
       "                \n",
       "                <td id=\"T_252c4266_dbd4_11e6_9cbe_989096a829darow5_col0\" class=\"data row5 col0\">\n",
       "                    231\n",
       "                \n",
       "                <td id=\"T_252c4266_dbd4_11e6_9cbe_989096a829darow5_col1\" class=\"data row5 col1\">\n",
       "                    140\n",
       "                \n",
       "                <td id=\"T_252c4266_dbd4_11e6_9cbe_989096a829darow5_col2\" class=\"data row5 col2\">\n",
       "                    200\n",
       "                \n",
       "                <td id=\"T_252c4266_dbd4_11e6_9cbe_989096a829darow5_col3\" class=\"data row5 col3\">\n",
       "                    0\n",
       "                \n",
       "                <td id=\"T_252c4266_dbd4_11e6_9cbe_989096a829darow5_col4\" class=\"data row5 col4\">\n",
       "                    0\n",
       "                \n",
       "                <td id=\"T_252c4266_dbd4_11e6_9cbe_989096a829darow5_col5\" class=\"data row5 col5\">\n",
       "                    1\n",
       "                \n",
       "                <td id=\"T_252c4266_dbd4_11e6_9cbe_989096a829darow5_col6\" class=\"data row5 col6\">\n",
       "                    Single Family\n",
       "                \n",
       "                <td id=\"T_252c4266_dbd4_11e6_9cbe_989096a829darow5_col7\" class=\"data row5 col7\">\n",
       "                    3\n",
       "                \n",
       "                <td id=\"T_252c4266_dbd4_11e6_9cbe_989096a829darow5_col8\" class=\"data row5 col8\">\n",
       "                    Medium environmental sensitivity\n",
       "                \n",
       "                <td id=\"T_252c4266_dbd4_11e6_9cbe_989096a829darow5_col9\" class=\"data row5 col9\">\n",
       "                    0\n",
       "                \n",
       "                <td id=\"T_252c4266_dbd4_11e6_9cbe_989096a829darow5_col10\" class=\"data row5 col10\">\n",
       "                    nan\n",
       "                \n",
       "                <td id=\"T_252c4266_dbd4_11e6_9cbe_989096a829darow5_col11\" class=\"data row5 col11\">\n",
       "                    washing_machine\n",
       "                \n",
       "                <td id=\"T_252c4266_dbd4_11e6_9cbe_989096a829darow5_col12\" class=\"data row5 col12\">\n",
       "                    A+\n",
       "                \n",
       "                <td id=\"T_252c4266_dbd4_11e6_9cbe_989096a829darow5_col13\" class=\"data row5 col13\">\n",
       "                    0\n",
       "                \n",
       "                <td id=\"T_252c4266_dbd4_11e6_9cbe_989096a829darow5_col14\" class=\"data row5 col14\">\n",
       "                    0\n",
       "                \n",
       "                <td id=\"T_252c4266_dbd4_11e6_9cbe_989096a829darow5_col15\" class=\"data row5 col15\">\n",
       "                    washing_machine_simple\n",
       "                \n",
       "                <td id=\"T_252c4266_dbd4_11e6_9cbe_989096a829darow5_col16\" class=\"data row5 col16\">\n",
       "                    1\n",
       "                \n",
       "            </tr>\n",
       "            \n",
       "        </tbody>\n",
       "        </table>\n",
       "        "
      ],
      "text/plain": [
       "<prettypandas.styler.PrettyPandas at 0x1587bef0>"
      ]
     },
     "execution_count": 22,
     "metadata": {},
     "output_type": "execute_result"
    }
   ],
   "source": [
    "PrettyPandas(df1.head(6))\n"
   ]
  },
  {
   "cell_type": "markdown",
   "metadata": {},
   "source": [
    "## 2. The meter pseudo-ID consumptions. \n",
    "Here's an extract of the first 5 records:\n"
   ]
  },
  {
   "cell_type": "code",
   "execution_count": 23,
   "metadata": {
    "collapsed": false
   },
   "outputs": [
    {
     "data": {
      "text/html": [
       "\n",
       "        <style  type=\"text/css\" >\n",
       "        \n",
       "            #T_293930fe_dbd4_11e6_94d1_989096a829da th {\n",
       "            \n",
       "                background: #eee;\n",
       "            \n",
       "                font-weight: 500;\n",
       "            \n",
       "            }\n",
       "        \n",
       "            #T_293930fe_dbd4_11e6_94d1_989096a829da td {\n",
       "            \n",
       "                text-align: right;\n",
       "            \n",
       "                min-width: 3em;\n",
       "            \n",
       "            }\n",
       "        \n",
       "            #T_293930fe_dbd4_11e6_94d1_989096a829da * {\n",
       "            \n",
       "                border-color: #c0c0c0;\n",
       "            \n",
       "            }\n",
       "        \n",
       "        \n",
       "        </style>\n",
       "\n",
       "        <table id=\"T_293930fe_dbd4_11e6_94d1_989096a829da\" None>\n",
       "        \n",
       "\n",
       "        <thead>\n",
       "            \n",
       "            <tr>\n",
       "                \n",
       "                <th class=\"blank\">\n",
       "                \n",
       "                <th class=\"col_heading level0 col0\">smart_meter_id\n",
       "                \n",
       "                <th class=\"col_heading level0 col1\">tst\n",
       "                \n",
       "                <th class=\"col_heading level0 col2\">lettura\n",
       "                \n",
       "            </tr>\n",
       "            \n",
       "        </thead>\n",
       "        <tbody>\n",
       "            \n",
       "            <tr>\n",
       "                \n",
       "                <th id=\"T_293930fe_dbd4_11e6_94d1_989096a829da\" class=\"row_heading level2 row0\">\n",
       "                    0\n",
       "                \n",
       "                <td id=\"T_293930fe_dbd4_11e6_94d1_989096a829darow0_col0\" class=\"data row0 col0\">\n",
       "                    179\n",
       "                \n",
       "                <td id=\"T_293930fe_dbd4_11e6_94d1_989096a829darow0_col1\" class=\"data row0 col1\">\n",
       "                    2015-07-28 20:00:00\n",
       "                \n",
       "                <td id=\"T_293930fe_dbd4_11e6_94d1_989096a829darow0_col2\" class=\"data row0 col2\">\n",
       "                    72.497\n",
       "                \n",
       "            </tr>\n",
       "            \n",
       "            <tr>\n",
       "                \n",
       "                <th id=\"T_293930fe_dbd4_11e6_94d1_989096a829da\" class=\"row_heading level2 row1\">\n",
       "                    1\n",
       "                \n",
       "                <td id=\"T_293930fe_dbd4_11e6_94d1_989096a829darow1_col0\" class=\"data row1 col0\">\n",
       "                    179\n",
       "                \n",
       "                <td id=\"T_293930fe_dbd4_11e6_94d1_989096a829darow1_col1\" class=\"data row1 col1\">\n",
       "                    2015-07-28 21:00:00\n",
       "                \n",
       "                <td id=\"T_293930fe_dbd4_11e6_94d1_989096a829darow1_col2\" class=\"data row1 col2\">\n",
       "                    72.498\n",
       "                \n",
       "            </tr>\n",
       "            \n",
       "            <tr>\n",
       "                \n",
       "                <th id=\"T_293930fe_dbd4_11e6_94d1_989096a829da\" class=\"row_heading level2 row2\">\n",
       "                    2\n",
       "                \n",
       "                <td id=\"T_293930fe_dbd4_11e6_94d1_989096a829darow2_col0\" class=\"data row2 col0\">\n",
       "                    179\n",
       "                \n",
       "                <td id=\"T_293930fe_dbd4_11e6_94d1_989096a829darow2_col1\" class=\"data row2 col1\">\n",
       "                    2015-07-28 22:00:00\n",
       "                \n",
       "                <td id=\"T_293930fe_dbd4_11e6_94d1_989096a829darow2_col2\" class=\"data row2 col2\">\n",
       "                    72.498\n",
       "                \n",
       "            </tr>\n",
       "            \n",
       "            <tr>\n",
       "                \n",
       "                <th id=\"T_293930fe_dbd4_11e6_94d1_989096a829da\" class=\"row_heading level2 row3\">\n",
       "                    3\n",
       "                \n",
       "                <td id=\"T_293930fe_dbd4_11e6_94d1_989096a829darow3_col0\" class=\"data row3 col0\">\n",
       "                    179\n",
       "                \n",
       "                <td id=\"T_293930fe_dbd4_11e6_94d1_989096a829darow3_col1\" class=\"data row3 col1\">\n",
       "                    2015-07-28 23:00:00\n",
       "                \n",
       "                <td id=\"T_293930fe_dbd4_11e6_94d1_989096a829darow3_col2\" class=\"data row3 col2\">\n",
       "                    72.498\n",
       "                \n",
       "            </tr>\n",
       "            \n",
       "            <tr>\n",
       "                \n",
       "                <th id=\"T_293930fe_dbd4_11e6_94d1_989096a829da\" class=\"row_heading level2 row4\">\n",
       "                    4\n",
       "                \n",
       "                <td id=\"T_293930fe_dbd4_11e6_94d1_989096a829darow4_col0\" class=\"data row4 col0\">\n",
       "                    179\n",
       "                \n",
       "                <td id=\"T_293930fe_dbd4_11e6_94d1_989096a829darow4_col1\" class=\"data row4 col1\">\n",
       "                    2015-07-29 00:00:00\n",
       "                \n",
       "                <td id=\"T_293930fe_dbd4_11e6_94d1_989096a829darow4_col2\" class=\"data row4 col2\">\n",
       "                    72.498\n",
       "                \n",
       "            </tr>\n",
       "            \n",
       "        </tbody>\n",
       "        </table>\n",
       "        "
      ],
      "text/plain": [
       "<prettypandas.styler.PrettyPandas at 0x158622b0>"
      ]
     },
     "execution_count": 23,
     "metadata": {},
     "output_type": "execute_result"
    }
   ],
   "source": [
    "PrettyPandas(df2.head(5))"
   ]
  },
  {
   "cell_type": "markdown",
   "metadata": {},
   "source": [
    "## 3. The map of the real meters ID with the meter pseudo-IDs\n",
    "That mapping has to be conserved by the researchers. Here's a fake sample:\n",
    "```\n",
    "CH_AQU_50667787,0\n",
    "CH_AQU_50667882,1\n",
    "CH_AQU_51778877,2\n",
    "```"
   ]
  },
  {
   "cell_type": "markdown",
   "metadata": {},
   "source": [
    "## References\n",
    "<div class=\"cite2c-biblio\"></div> "
   ]
  },
  {
   "cell_type": "code",
   "execution_count": null,
   "metadata": {
    "collapsed": true
   },
   "outputs": [],
   "source": []
  }
 ],
 "metadata": {
  "anaconda-cloud": {},
  "cite2c": {
   "citations": {
    "3787359/4J75PISQ": {
     "URL": "https://www3.ti.ch/CAN/RLeggi/public/index.php/raccolta-leggi/legge/vid/18",
     "id": "3787359/4J75PISQ",
     "note": "(Accessed on 01/13/2017)",
     "title": "CAN - Raccolta delle leggi vigenti del Cantone Ticino - 1.6.1.1 Legge sulla protezione dei dati personali (LPDP)[1]",
     "type": "book"
    },
    "3787359/535WZFAU": {
     "URL": "https://cran.r-project.org/web/packages/sdcMicro/index.html",
     "id": "3787359/535WZFAU",
     "note": "(Accessed on 12/21/2016)",
     "title": "CRAN - Package sdcMicro",
     "type": "book"
    },
    "3787359/65KQHK3S": {
     "DOI": "10.1145/1217299.1217302",
     "URL": "http://doi.acm.org/10.1145/1217299.1217302",
     "author": [
      {
       "family": "Machanavajjhala",
       "given": "Ashwin"
      },
      {
       "family": "Kifer",
       "given": "Daniel"
      },
      {
       "family": "Gehrke",
       "given": "Johannes"
      },
      {
       "family": "Venkitasubramaniam",
       "given": "Muthuramakrishnan"
      }
     ],
     "container-title": "ACM Trans. Knowl. Discov. Data",
     "id": "3787359/65KQHK3S",
     "issue": "1",
     "issued": {
      "month": "3",
      "year": "2007"
     },
     "title": "L-diversity: Privacy Beyond K-anonymity",
     "type": "article-journal",
     "volume": "1"
    },
    "3787359/799X79SU": {
     "URL": "http://www.ejpd.admin.ch/ejpd/it/home/aktuell/news/2015/2015-04-010.html",
     "id": "3787359/799X79SU",
     "note": "(Accessed on 12/19/2016)",
     "title": "La protezione dei dati va rafforzata",
     "type": "book"
    },
    "3787359/8R7PH8I6": {
     "URL": "http://cs.utdallas.edu/dspl/cgi-bin/toolbox/index.php?go=home",
     "id": "3787359/8R7PH8I6",
     "note": "(Accessed on 12/21/2016)",
     "title": "UTD Anonymization ToolBox",
     "type": "book"
    },
    "3787359/9FF6GDRV": {
     "URL": "http://www.eugdpr.org/eugdpr.org.html",
     "id": "3787359/9FF6GDRV",
     "note": "(Accessed on 12/16/2016)",
     "title": "Home Page of EU GDPR",
     "type": "book"
    },
    "3787359/FMSQJ2KQ": {
     "URL": "http://www.allenovery.com/publications/en-gb/data-protection/Pages/default.aspx",
     "id": "3787359/FMSQJ2KQ",
     "note": "(Accessed on 01/13/2017)",
     "title": "The EU General Data Protection Regulation - Allen & Overy",
     "type": "book"
    },
    "3787359/G2FEKJAW": {
     "URL": "http://www.personneltoday.com/hr/general-data-protection-regulation-gdpr-employer/",
     "id": "3787359/G2FEKJAW",
     "note": "(Accessed on 12/19/2016)",
     "title": "Employer's guide to the General Data Protection Regulation",
     "type": "book"
    },
    "3787359/J5MV3PRI": {
     "URL": "http://www.rand.org/pubs/working_papers/WR1161.html",
     "id": "3787359/J5MV3PRI",
     "note": "(Accessed on 12/19/2016)",
     "title": "Privacy Preservation in the Age of Big Data: A Survey | RAND",
     "type": "book"
    },
    "3787359/K7CNSE5M": {
     "author": [
      {
       "family": "Dwork",
       "given": "Cynthia"
      }
     ],
     "container-title": "33rd International Colloquium on Automata, Languages and Programming, part II (ICALP 2006)",
     "id": "3787359/K7CNSE5M",
     "issued": {
      "month": "7",
      "year": "2006"
     },
     "title": "Differential Privacy",
     "type": "paper-conference"
    },
    "3787359/NKFBISTU": {
     "DOI": "10.1142/S0218488502001648",
     "URL": "http://dx.doi.org/10.1142/S0218488502001648",
     "author": [
      {
       "family": "Sweeney",
       "given": "Latanya"
      }
     ],
     "container-title": "Int. J. Uncertain. Fuzziness Knowl.-Based Syst.",
     "id": "3787359/NKFBISTU",
     "issue": "5",
     "issued": {
      "month": "10",
      "year": "2002"
     },
     "page": "557–570",
     "page-first": "557",
     "title": "K-anonymity: A Model for Protecting Privacy",
     "type": "article-journal",
     "volume": "10"
    },
    "3787359/PSH8MTBA": {
     "URL": "https://www.admin.ch/opc/it/classified-compilation/19920153/index.html",
     "id": "3787359/PSH8MTBA",
     "note": "(Accessed on 01/13/2017)",
     "title": "RS 235.1 Legge Federale del 19 giugno 1992 sulla protezione dei dati (LPD)",
     "type": "book"
    },
    "3787359/Q4V2NSW8": {
     "ISBN": "1-4244-0803-2",
     "author": [
      {
       "family": "Ninghui",
       "given": "Li"
      },
      {
       "family": "Tiancheng",
       "given": "Li"
      },
      {
       "family": "Venkatasubramanian",
       "given": "Suresh"
      }
     ],
     "container-title": "Proceedings - International Conference on Data Engineering",
     "id": "3787359/Q4V2NSW8",
     "issued": {
      "year": "2007"
     },
     "page": "106–115",
     "page-first": "106",
     "title": "t-Closeness: Privacy beyond k-anonymity and ℓ-diversity",
     "type": "chapter"
    },
    "3787359/Q5A34RF4": {
     "URL": "http://neon.vb.cbs.nl/casc/mu.htm",
     "id": "3787359/Q5A34RF4",
     "note": "(Accessed on 12/21/2016)",
     "title": "μ-ARGUS",
     "type": "book"
    },
    "3787359/SF7F9F3G": {
     "URL": "https://www.continuum.io/anaconda-overview",
     "id": "3787359/SF7F9F3G",
     "note": "(Accessed on 12/21/2016)",
     "title": "Anaconda Overview | Continuum",
     "type": "book"
    },
    "3787359/SR92UDP2": {
     "URL": "https://www.ncbi.nlm.nih.gov/pmc/articles/PMC4419984/",
     "id": "3787359/SR92UDP2",
     "note": "(Accessed on 12/21/2016)",
     "title": "ARX - A Comprehensive Tool for Anonymizing Biomedical Data",
     "type": "book"
    },
    "3787359/WZGUV7DA": {
     "URL": "https://blog.cryptographyengineering.com/2016/06/15/what-is-differential-privacy/",
     "id": "3787359/WZGUV7DA",
     "note": "(Accessed on 12/12/2016)",
     "title": "What is Differential Privacy? – A Few Thoughts on Cryptographic Engineering",
     "type": "book"
    },
    "3787359/ZIB68BXF": {
     "author": [
      {
       "family": "Elabd",
       "given": "Emad"
      },
      {
       "family": "Abdulkader",
       "given": "Hatem"
      },
      {
       "family": "Mubark",
       "given": "Ahmed"
      }
     ],
     "id": "3787359/ZIB68BXF",
     "issued": {
      "year": "2015"
     },
     "title": "L–Diversity-Based Semantic Anonymaztion for Data Publishing",
     "type": "article-journal"
    }
   }
  },
  "kernelspec": {
   "display_name": "Python [default]",
   "language": "python",
   "name": "python3"
  },
  "language_info": {
   "codemirror_mode": {
    "name": "ipython",
    "version": 3
   },
   "file_extension": ".py",
   "mimetype": "text/x-python",
   "name": "python",
   "nbconvert_exporter": "python",
   "pygments_lexer": "ipython3",
   "version": "3.5.2"
  },
  "latex_envs": {
   "bibliofile": "biblio.bib",
   "cite_by": "number",
   "current_citInitial": 1,
   "eqLabelWithNumbers": true,
   "eqNumInitial": 0
  }
 },
 "nbformat": 4,
 "nbformat_minor": 0
}
